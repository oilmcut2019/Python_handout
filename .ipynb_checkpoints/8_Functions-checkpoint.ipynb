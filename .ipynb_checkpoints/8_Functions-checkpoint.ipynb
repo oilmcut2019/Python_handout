{
 "cells": [
  {
   "cell_type": "markdown",
   "metadata": {},
   "source": [
    "# Functions\n",
    "A function is a block of code which only runs when it is called.<br>\n",
    "You can pass data, known as parameters, into a function.<br>\n",
    "A function can return data as a result.<br>\n",
    "函數是僅在調用時運行的代碼塊。<br>\n",
    "您可以將數據（稱為參數）傳遞給函數。<br>\n",
    "函數可以返回數據。"
   ]
  },
  {
   "cell_type": "markdown",
   "metadata": {},
   "source": [
    "## Creating a Function\n",
    "In Python a function is defined using the def keyword:<br>\n",
    "創建一個功能<br>\n",
    "在Python中，使用def關鍵字定義函數："
   ]
  },
  {
   "cell_type": "code",
   "execution_count": 1,
   "metadata": {
    "ExecuteTime": {
     "end_time": "2019-11-04T02:51:54.938106Z",
     "start_time": "2019-11-04T02:51:54.933108Z"
    }
   },
   "outputs": [],
   "source": [
    "def my_function():\n",
    "    print(\"Hello from a function\")"
   ]
  },
  {
   "cell_type": "code",
   "execution_count": 4,
   "metadata": {},
   "outputs": [
    {
     "data": {
      "text/plain": [
       "<function __main__.my_function()>"
      ]
     },
     "execution_count": 4,
     "metadata": {},
     "output_type": "execute_result"
    }
   ],
   "source": [
    "my_function"
   ]
  },
  {
   "cell_type": "markdown",
   "metadata": {},
   "source": [
    "## Calling a Function\n",
    "To call a function, use the function name followed by parenthesis:<br>\n",
    "調用函數<br>\n",
    "要調用函數，請在函數名稱後加上括號："
   ]
  },
  {
   "cell_type": "code",
   "execution_count": 2,
   "metadata": {
    "ExecuteTime": {
     "end_time": "2019-11-04T02:54:11.663617Z",
     "start_time": "2019-11-04T02:54:11.657613Z"
    }
   },
   "outputs": [
    {
     "name": "stdout",
     "output_type": "stream",
     "text": [
      "Hello from a function\n"
     ]
    }
   ],
   "source": [
    "def my_function():\n",
    "    print(\"Hello from a function\")\n",
    "\n",
    "my_function()"
   ]
  },
  {
   "cell_type": "markdown",
   "metadata": {},
   "source": [
    "## Parameters\n",
    "Information can be passed to functions as parameter.<br>\n",
    "Parameters are specified after the function name, inside the parentheses. You can add as many parameters as you want, just separate them with a comma.<br>\n",
    "The following example has a function with one parameter (fname). When the function is called, we pass along a first name, which is used inside the function to print the full name:<br>\n",
    "參數<br>\n",
    "信息可以作為參數傳遞給函數。<br>\n",
    "在括號內，在函數名稱之後指定參數。 您可以根據需要添加任意數量的參數，只需用逗號分隔即可。<br>\n",
    "以下示例具有一個帶有一個參數（fname）的函數。 調用該函數時，我們傳遞一個名字，該名字在函數內部用於打印全名："
   ]
  },
  {
   "cell_type": "code",
   "execution_count": 3,
   "metadata": {
    "ExecuteTime": {
     "end_time": "2019-11-04T02:58:19.664786Z",
     "start_time": "2019-11-04T02:58:19.658781Z"
    }
   },
   "outputs": [
    {
     "name": "stdout",
     "output_type": "stream",
     "text": [
      "Emil Refsnes\n",
      "Tobias Refsnes\n",
      "Linus Refsnes\n"
     ]
    }
   ],
   "source": [
    "def my_function(fname):\n",
    "    print(fname + \" Refsnes\")\n",
    "\n",
    "my_function(\"Emil\")\n",
    "my_function(\"Tobias\")\n",
    "my_function(\"Linus\")"
   ]
  },
  {
   "cell_type": "markdown",
   "metadata": {},
   "source": [
    "## Default Parameter Value\n",
    "The following example shows how to use a default parameter value.<br>\n",
    "If we call the function without parameter, it uses the default value:<br>\n",
    "下面的示例顯示如何使用默認參數值。<br>\n",
    "如果調用不帶參數的函數，它將使用默認值："
   ]
  },
  {
   "cell_type": "code",
   "execution_count": 5,
   "metadata": {
    "ExecuteTime": {
     "end_time": "2019-11-04T03:00:24.912620Z",
     "start_time": "2019-11-04T03:00:24.906620Z"
    }
   },
   "outputs": [
    {
     "name": "stdout",
     "output_type": "stream",
     "text": [
      "I am from Sweden\n",
      "I am from India\n",
      "I am from Norway\n",
      "I am from Brazil\n"
     ]
    }
   ],
   "source": [
    "def my_function(country = \"Norway\"):\n",
    "    print(\"I am from \" + country)\n",
    "\n",
    "my_function(\"Sweden\")\n",
    "my_function(\"India\")\n",
    "my_function()\n",
    "my_function(\"Brazil\")"
   ]
  },
  {
   "cell_type": "markdown",
   "metadata": {},
   "source": [
    "## Passing a List as a Parameter\n",
    "You can send any data types of parameter to a function (string, number, list, dictionary etc.), and it will be treated as the same data type inside the function.<br>\n",
    "E.g. if you send a List as a parameter, it will still be a List when it reaches the function:<br>\n",
    "傳遞列表作為參數<br>\n",
    "您可以將參數的任何數據類型發送到函數（字符串，數字，列表，字典等），它將在函數內部被視為相同的數據類型。<br>\n",
    "例如。 如果將列表作為參數發送，則在到達函數時仍將是列表："
   ]
  },
  {
   "cell_type": "code",
   "execution_count": 6,
   "metadata": {
    "ExecuteTime": {
     "end_time": "2019-11-04T03:02:10.892364Z",
     "start_time": "2019-11-04T03:02:10.885360Z"
    }
   },
   "outputs": [
    {
     "name": "stdout",
     "output_type": "stream",
     "text": [
      "apple\n",
      "banana\n",
      "cherry\n"
     ]
    }
   ],
   "source": [
    "def my_function(food):\n",
    "    for x in food:\n",
    "        print(x)\n",
    "\n",
    "fruits = [\"apple\", \"banana\", \"cherry\"]\n",
    "\n",
    "my_function(fruits)"
   ]
  },
  {
   "cell_type": "markdown",
   "metadata": {},
   "source": [
    "### Return Values\n",
    "To let a function return a value, use the return statement:<br>\n",
    "要讓函數返回值，請使用return語句："
   ]
  },
  {
   "cell_type": "code",
   "execution_count": 7,
   "metadata": {
    "ExecuteTime": {
     "end_time": "2019-11-04T03:04:17.148195Z",
     "start_time": "2019-11-04T03:04:17.143195Z"
    }
   },
   "outputs": [
    {
     "name": "stdout",
     "output_type": "stream",
     "text": [
      "15\n",
      "25\n",
      "45\n"
     ]
    }
   ],
   "source": [
    "def my_function(x):\n",
    "    return 5 * x\n",
    "\n",
    "print(my_function(3))\n",
    "print(my_function(5))\n",
    "print(my_function(9))"
   ]
  },
  {
   "cell_type": "markdown",
   "metadata": {},
   "source": [
    "## Keyword Arguments\n",
    "You can also send arguments with the key = value syntax.<br>\n",
    "This way the order of the arguments does not matter.<br>\n",
    "您還可以使用key = value語法發送參數。<br>\n",
    "這樣，參數的順序無關緊要。"
   ]
  },
  {
   "cell_type": "code",
   "execution_count": 8,
   "metadata": {
    "ExecuteTime": {
     "end_time": "2019-11-04T03:05:18.921919Z",
     "start_time": "2019-11-04T03:05:18.915920Z"
    }
   },
   "outputs": [
    {
     "name": "stdout",
     "output_type": "stream",
     "text": [
      "The youngest child is Linus\n"
     ]
    }
   ],
   "source": [
    "def my_function(child3, child2, child1):\n",
    "    print(\"The youngest child is \" + child3)\n",
    "my_function(child1 = \"Emil\", child2 = \"Tobias\", child3 = \"Linus\")"
   ]
  },
  {
   "cell_type": "markdown",
   "metadata": {},
   "source": [
    "## Arbitrary Arguments\n",
    "If you do not know how many arguments that will be passed into your function, add a * before the parameter name in the function definition.<br>\n",
    "This way the function will receive a tuple of arguments, and can access the items accordingly:<br>\n",
    "如果您不知道將傳遞給您的函數多少個參數，請在函數定義的參數名稱前添加*。<br>\n",
    "這樣，函數將接收一個參數元組，並可以相應地訪問各項："
   ]
  },
  {
   "cell_type": "markdown",
   "metadata": {},
   "source": [
    "### Example\n",
    "If the number of arguments are unknown, add a * before the parameter name:"
   ]
  },
  {
   "cell_type": "code",
   "execution_count": 9,
   "metadata": {
    "ExecuteTime": {
     "end_time": "2019-11-04T03:08:54.782505Z",
     "start_time": "2019-11-04T03:08:54.775501Z"
    }
   },
   "outputs": [
    {
     "name": "stdout",
     "output_type": "stream",
     "text": [
      "The youngest child is Linus\n"
     ]
    }
   ],
   "source": [
    "def my_function(*kids):\n",
    "    print(\"The youngest child is \" + kids[2])\n",
    "my_function(\"Emil\", \"Tobias\", \"Linus\")"
   ]
  },
  {
   "cell_type": "markdown",
   "metadata": {},
   "source": [
    "## The pass Statement\n",
    "function definitions cannot be empty, but if you for some reason have a function definition with no content, put in the pass statement to avoid getting an error.<br>\n",
    "函數定義不能為空，但是如果由於某種原因而有一個不包含任何內容的函數定義，請放入pass語句，以避免出錯。"
   ]
  },
  {
   "cell_type": "code",
   "execution_count": 11,
   "metadata": {
    "ExecuteTime": {
     "end_time": "2019-11-04T03:10:48.820237Z",
     "start_time": "2019-11-04T03:10:48.816235Z"
    }
   },
   "outputs": [],
   "source": [
    "def myfunction():\n",
    "    pass"
   ]
  },
  {
   "cell_type": "markdown",
   "metadata": {},
   "source": [
    "## Recursion\n",
    "Python also accepts function recursion, which means a defined function can call itself.<br>\n",
    "Recursion is a common mathematical and programming concept. It means that a function calls itself. This has the benefit of meaning that you can loop through data to reach a result.<br>\n",
    "The developer should be very careful with recursion as it can be quite easy to slip into writing a function which never terminates, or one that uses excess amounts of memory or processor power. However, when written correctly recursion can be a very efficient and mathematically-elegant approach to programming.<br>\n",
    "In this example, tri_recursion() is a function that we have defined to call itself (\"recurse\"). We use the k variable as the data, which decrements (-1) every time we recurse. The recursion ends when the condition is not greater than 0 (i.e. when it is 0).<br>\n",
    "To a new developer it can take some time to work out how exactly this works, best way to find out is by testing and modifying it.<br>\n",
    "遞迴<br>\n",
    "Python還接受函數遞迴，這意味著定義的函數可以調用自身。<br>\n",
    "遞歸是常見的數學和編程概念。 這意味著一個函數調用自己。 這樣做的好處是，您可以遍歷數據以獲得結果。<br>\n",
    "開發人員在進行遞迴時應非常小心，因為很容易滑入編寫永不終止的函數，或者使用過多內存或處理器能力的函數。 但是，如果編寫正確，則遞迴可以是一種非常有效且數學上精巧的編程方法。<br>\n",
    "在此示例中，tri_recursion（）是我們已定義為調用自身的函數（“遞迴”）。 我們使用k變量作為數據，每次遞迴時該變量減（-1）。 當條件不大於0（即為0）時，遞迴結束。<br>\n",
    "對於新開發人員來說，可能需要花費一些時間來確定其工作原理，最好的測試方法是測試和修改它。<br>"
   ]
  },
  {
   "cell_type": "markdown",
   "metadata": {},
   "source": [
    "### Example\n",
    "Recursion Example"
   ]
  },
  {
   "cell_type": "code",
   "execution_count": 13,
   "metadata": {
    "ExecuteTime": {
     "end_time": "2019-11-04T03:18:14.248565Z",
     "start_time": "2019-11-04T03:18:14.231563Z"
    }
   },
   "outputs": [
    {
     "name": "stdout",
     "output_type": "stream",
     "text": [
      "\n",
      "\n",
      "Recursion Example Results\n",
      "1\n",
      "3\n",
      "6\n",
      "10\n",
      "15\n",
      "21\n"
     ]
    },
    {
     "data": {
      "text/plain": [
       "21"
      ]
     },
     "execution_count": 13,
     "metadata": {},
     "output_type": "execute_result"
    }
   ],
   "source": [
    "def tri_recursion(k):\n",
    "    if(k>0):\n",
    "        result = k+tri_recursion(k-1)\n",
    "        print(result)\n",
    "    else:\n",
    "        result = 0\n",
    "    return result\n",
    "\n",
    "print(\"\\n\\nRecursion Example Results\")\n",
    "tri_recursion(6)"
   ]
  }
 ],
 "metadata": {
  "kernelspec": {
   "display_name": "Python 3",
   "language": "python",
   "name": "python3"
  },
  "language_info": {
   "codemirror_mode": {
    "name": "ipython",
    "version": 3
   },
   "file_extension": ".py",
   "mimetype": "text/x-python",
   "name": "python",
   "nbconvert_exporter": "python",
   "pygments_lexer": "ipython3",
   "version": "3.7.3"
  },
  "nbTranslate": {
   "displayLangs": [
    "*"
   ],
   "hotkey": "alt-t",
   "langInMainMenu": true,
   "sourceLang": "en",
   "targetLang": "fr",
   "useGoogleTranslate": true
  },
  "toc": {
   "base_numbering": 1,
   "nav_menu": {},
   "number_sections": true,
   "sideBar": true,
   "skip_h1_title": false,
   "title_cell": "Table of Contents",
   "title_sidebar": "Contents",
   "toc_cell": false,
   "toc_position": {},
   "toc_section_display": true,
   "toc_window_display": false
  },
  "varInspector": {
   "cols": {
    "lenName": 16,
    "lenType": 16,
    "lenVar": 40
   },
   "kernels_config": {
    "python": {
     "delete_cmd_postfix": "",
     "delete_cmd_prefix": "del ",
     "library": "var_list.py",
     "varRefreshCmd": "print(var_dic_list())"
    },
    "r": {
     "delete_cmd_postfix": ") ",
     "delete_cmd_prefix": "rm(",
     "library": "var_list.r",
     "varRefreshCmd": "cat(var_dic_list()) "
    }
   },
   "types_to_exclude": [
    "module",
    "function",
    "builtin_function_or_method",
    "instance",
    "_Feature"
   ],
   "window_display": false
  }
 },
 "nbformat": 4,
 "nbformat_minor": 2
}
