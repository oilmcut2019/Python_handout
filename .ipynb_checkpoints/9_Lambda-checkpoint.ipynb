{
 "cells": [
  {
   "cell_type": "markdown",
   "metadata": {},
   "source": [
    "# Lambda\n",
    "A lambda function is a small anonymous function.<br>\n",
    "A lambda function can take any number of arguments, but can only have one expression.<br>\n",
    "Lambda函數是一個小的匿名函數。<br>\n",
    "Lambda函數可以接受任意數量的參數，但只能具有一個表達式。"
   ]
  },
  {
   "cell_type": "markdown",
   "metadata": {},
   "source": [
    "## Syntax\n",
    "lambda arguments : expression<br>\n",
    "The expression is executed and the result is returned:<br>\n",
    "表達式被執行並返回結果："
   ]
  },
  {
   "cell_type": "markdown",
   "metadata": {},
   "source": [
    "### Example\n",
    "A lambda function that adds 10 to the number passed in as an argument, and print the result:"
   ]
  },
  {
   "cell_type": "code",
   "execution_count": 1,
   "metadata": {
    "ExecuteTime": {
     "end_time": "2019-11-04T03:22:29.069895Z",
     "start_time": "2019-11-04T03:22:29.063893Z"
    }
   },
   "outputs": [
    {
     "name": "stdout",
     "output_type": "stream",
     "text": [
      "15\n"
     ]
    }
   ],
   "source": [
    "x = lambda a : a + 10   #mapping\n",
    "print(x(5))"
   ]
  },
  {
   "cell_type": "markdown",
   "metadata": {},
   "source": [
    "Lambda functions can take any number of arguments:<br>\n",
    "Lambda函數可以接受任意數量的參數："
   ]
  },
  {
   "cell_type": "markdown",
   "metadata": {},
   "source": [
    "### Example\n",
    "A lambda function that multiplies argument a with argument b and print the result:<br>\n",
    "一個lambda函數，它將參數a與參數b相乘並輸出結果："
   ]
  },
  {
   "cell_type": "code",
   "execution_count": 2,
   "metadata": {
    "ExecuteTime": {
     "end_time": "2019-11-04T03:24:53.865519Z",
     "start_time": "2019-11-04T03:24:53.858519Z"
    }
   },
   "outputs": [
    {
     "name": "stdout",
     "output_type": "stream",
     "text": [
      "30\n"
     ]
    }
   ],
   "source": [
    "x = lambda a, b : a * b   #parameters\n",
    "print(x(5, 6))   #arguments"
   ]
  },
  {
   "cell_type": "markdown",
   "metadata": {},
   "source": [
    "### Example\n",
    "A lambda function that sums argument a, b, and c and print the result:<br>\n",
    "一個lambda函數，對參數a，b和c求和並輸出結果："
   ]
  },
  {
   "cell_type": "code",
   "execution_count": 3,
   "metadata": {
    "ExecuteTime": {
     "end_time": "2019-11-04T03:25:40.277406Z",
     "start_time": "2019-11-04T03:25:40.271409Z"
    }
   },
   "outputs": [
    {
     "name": "stdout",
     "output_type": "stream",
     "text": [
      "13\n"
     ]
    }
   ],
   "source": [
    "x = lambda a, b, c : a + b + c\n",
    "print(x(5, 6, 2))"
   ]
  },
  {
   "cell_type": "markdown",
   "metadata": {},
   "source": [
    "## Why Use Lambda Functions?\n",
    "The power of lambda is better shown when you use them as an anonymous function inside another function.<br>\n",
    "Say you have a function definition that takes one argument, and that argument will be multiplied with an unknown number:<br>\n",
    "將lambda用作另一個函數中的匿名函數時，可以更好地顯示lambda的功能。<br>\n",
    "假設您有一個接受一個參數的函數定義，該參數將與一個未知數相乘："
   ]
  },
  {
   "cell_type": "code",
   "execution_count": 4,
   "metadata": {
    "ExecuteTime": {
     "end_time": "2019-11-04T03:28:40.346214Z",
     "start_time": "2019-11-04T03:28:40.342215Z"
    }
   },
   "outputs": [],
   "source": [
    "def myfunc(n):\n",
    "    return lambda a : a * n"
   ]
  },
  {
   "cell_type": "markdown",
   "metadata": {},
   "source": [
    "Use that function definition to make a function that always doubles the number you send in:<br>\n",
    "使用該函數定義可以使您發送的數字始終翻倍："
   ]
  },
  {
   "cell_type": "code",
   "execution_count": null,
   "metadata": {},
   "outputs": [],
   "source": [
    "def myfunc(n):\n",
    "    return lambda a : a * n\n",
    "mydoubler = myfunc(2)\n",
    "print(mydoubler(11))"
   ]
  },
  {
   "cell_type": "markdown",
   "metadata": {},
   "source": [
    "Or, use the same function definition to make a function that always triples the number you send in:<br>\n",
    "或者，使用相同的函數定義製作一個函數，該函數始終將發送的數字增加三倍："
   ]
  },
  {
   "cell_type": "code",
   "execution_count": 6,
   "metadata": {
    "ExecuteTime": {
     "end_time": "2019-11-04T03:33:13.156029Z",
     "start_time": "2019-11-04T03:33:13.150025Z"
    }
   },
   "outputs": [
    {
     "name": "stdout",
     "output_type": "stream",
     "text": [
      "33\n"
     ]
    }
   ],
   "source": [
    "def myfunc(n):\n",
    "    return lambda a : a * n\n",
    "mytripler = myfunc(3)\n",
    "print(mytripler(11))"
   ]
  },
  {
   "cell_type": "markdown",
   "metadata": {},
   "source": [
    "Or, use the same function definition to make both functions, in the same program:<br>\n",
    "或者，在同一程序中使用相同的函數定義來創建兩個函數："
   ]
  },
  {
   "cell_type": "code",
   "execution_count": 8,
   "metadata": {
    "ExecuteTime": {
     "end_time": "2019-11-04T03:34:12.008810Z",
     "start_time": "2019-11-04T03:34:12.002810Z"
    }
   },
   "outputs": [
    {
     "name": "stdout",
     "output_type": "stream",
     "text": [
      "22\n",
      "33\n"
     ]
    }
   ],
   "source": [
    "def myfunc(n):\n",
    "    return lambda a : a * n\n",
    "mydoubler = myfunc(2)\n",
    "mytripler = myfunc(3)\n",
    "print(mydoubler(11))\n",
    "print(mytripler(11))"
   ]
  }
 ],
 "metadata": {
  "kernelspec": {
   "display_name": "Python 3",
   "language": "python",
   "name": "python3"
  },
  "language_info": {
   "codemirror_mode": {
    "name": "ipython",
    "version": 3
   },
   "file_extension": ".py",
   "mimetype": "text/x-python",
   "name": "python",
   "nbconvert_exporter": "python",
   "pygments_lexer": "ipython3",
   "version": "3.7.3"
  },
  "nbTranslate": {
   "displayLangs": [
    "*"
   ],
   "hotkey": "alt-t",
   "langInMainMenu": true,
   "sourceLang": "en",
   "targetLang": "fr",
   "useGoogleTranslate": true
  },
  "toc": {
   "base_numbering": 1,
   "nav_menu": {},
   "number_sections": true,
   "sideBar": true,
   "skip_h1_title": false,
   "title_cell": "Table of Contents",
   "title_sidebar": "Contents",
   "toc_cell": false,
   "toc_position": {},
   "toc_section_display": true,
   "toc_window_display": false
  },
  "varInspector": {
   "cols": {
    "lenName": 16,
    "lenType": 16,
    "lenVar": 40
   },
   "kernels_config": {
    "python": {
     "delete_cmd_postfix": "",
     "delete_cmd_prefix": "del ",
     "library": "var_list.py",
     "varRefreshCmd": "print(var_dic_list())"
    },
    "r": {
     "delete_cmd_postfix": ") ",
     "delete_cmd_prefix": "rm(",
     "library": "var_list.r",
     "varRefreshCmd": "cat(var_dic_list()) "
    }
   },
   "types_to_exclude": [
    "module",
    "function",
    "builtin_function_or_method",
    "instance",
    "_Feature"
   ],
   "window_display": false
  }
 },
 "nbformat": 4,
 "nbformat_minor": 2
}
